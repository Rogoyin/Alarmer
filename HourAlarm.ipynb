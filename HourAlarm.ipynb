{
 "cells": [
  {
   "cell_type": "code",
   "execution_count": 1,
   "metadata": {},
   "outputs": [],
   "source": [
    "import time\n",
    "import winsound"
   ]
  },
  {
   "cell_type": "markdown",
   "metadata": {},
   "source": [
    "##### Función"
   ]
  },
  {
   "cell_type": "code",
   "execution_count": 2,
   "metadata": {},
   "outputs": [],
   "source": [
    "def Periodic_Point_Alarm(Begin_Hour='08:00', Final_Hour='22:00', Target_Minute=0, Duration_Second=5):\n",
    "    \"\"\"\n",
    "    Genera una alarma cada una hora en un minuto especificado entre las horas especificadas.\n",
    "\n",
    "    :param Begin_Hour: Hora de inicio en formato 24 horas (ejemplo: \"08:00\").\n",
    "    :param Final_Hour: Hora de fin en formato 24 horas (ejemplo: \"18:00\").\n",
    "    :param Target_Minute: Minuto dentro de cada hora donde suena la alarma (por defecto suena en el minuto 0).\n",
    "    :param Duration_Seconds: Cuántos segundos dura la alarma.\n",
    "\n",
    "    \"\"\"\n",
    "\n",
    "    while True:\n",
    "        # Obtener la hora actual\n",
    "        Now = time.localtime()\n",
    "        Actual_Hour = time.strftime(\"%H:%M\", Now)\n",
    "\n",
    "        # Verificar si la hora actual está dentro del rango especificado.\n",
    "        if Begin_Hour <= Actual_Hour < Final_Hour:\n",
    "            # Si es el minuto y segundo exacto del Target_Minute\n",
    "            if Now.tm_min == Target_Minute and Now.tm_sec == 0:\n",
    "                # Reproducir el sonido de la alarma\n",
    "                winsound.Beep(1000, Duration_Second*1000)  # Frecuencia 1000 Hz, duración 3000 ms.\n",
    "\n",
    "            # Dormir hasta el siguiente segundo para no repetir el beep\n",
    "            time.sleep(1)\n",
    "\n",
    "        else:\n",
    "            # Si no estamos en el rango de horas, dormir 60 segundos antes de verificar de nuevo\n",
    "            time.sleep(60)\n",
    "\n"
   ]
  },
  {
   "cell_type": "markdown",
   "metadata": {},
   "source": [
    "__Funciones.__\n",
    "- Se obtiene la hora actual mediante dos funciones.\n",
    "    - __time.localtime()__ devuelve la hora actual como una tupla estructurada.\n",
    "    - __time.strftime()__ formatea esta tupla en una cadena de hora y minutos.\n",
    "- Comprueba si la hora actual está dentro del rango especificado.\n",
    "- Calcula el tiempo restante hasta el próximo minuto en punto y duerme ese tiempo.\n",
    "    - __Now.tm_min__ representa los minutos actuales (0 a 59).\n",
    "    - __60 - Now.tm_min__ calcula cuántos minutos faltan hasta el próximo minuto en punto.\n",
    "    - __(60 - Now.tm_min) * 60__ multiplica los minutos restantes por 60 para convertirlos a segundos.\n",
    "    - __Now.tm_sec__ representa los segundos actuales (0 a 59).\n",
    "    - __(60 - ahora.tm_min) * 60 - ahora.tm_sec__ resta los segundos actuales para obtener la cantidad exacta de segundos restantes hasta el próximo minuto en punto.\n",
    "    - Si hay 34 minutos y 45 segundos en el reloj, entonces 1560 - 45 da 1515 segundos."
   ]
  },
  {
   "cell_type": "markdown",
   "metadata": {},
   "source": [
    "##### Implementación"
   ]
  },
  {
   "cell_type": "code",
   "execution_count": 4,
   "metadata": {},
   "outputs": [],
   "source": [
    "# Iniciar el programa de alarma.\n",
    "Periodic_Point_Alarm()"
   ]
  }
 ],
 "metadata": {
  "kernelspec": {
   "display_name": "Python 3",
   "language": "python",
   "name": "python3"
  },
  "language_info": {
   "codemirror_mode": {
    "name": "ipython",
    "version": 3
   },
   "file_extension": ".py",
   "mimetype": "text/x-python",
   "name": "python",
   "nbconvert_exporter": "python",
   "pygments_lexer": "ipython3",
   "version": "3.11.9"
  }
 },
 "nbformat": 4,
 "nbformat_minor": 2
}
